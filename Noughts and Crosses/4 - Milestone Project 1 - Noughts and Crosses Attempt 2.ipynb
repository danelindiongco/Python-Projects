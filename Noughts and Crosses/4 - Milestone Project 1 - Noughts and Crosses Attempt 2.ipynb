{
 "cells": [
  {
   "cell_type": "code",
   "execution_count": 1,
   "id": "49cb262a",
   "metadata": {},
   "outputs": [],
   "source": [
    "from IPython.display import clear_output"
   ]
  },
  {
   "cell_type": "code",
   "execution_count": 2,
   "id": "d25bde1a",
   "metadata": {},
   "outputs": [],
   "source": [
    "class Board:\n",
    "    \n",
    "    def __init__(self):\n",
    "        self.board = [0,1,2,3,4,5,6,7,8]\n",
    "        self.turn = 1\n",
    "        \n",
    "    def print_board(self):\n",
    "        for i in range(0,8,3):\n",
    "            print('{} | {} | {}'.format(self.board[i],self.board[i+1],self.board[i+2]))\n",
    "            \n",
    "    def place_counter(self,position,counter):\n",
    "        self.board[position] = counter\n",
    "        \n",
    "    def win_check(self):\n",
    "        return self.board[0] == self.board[1] == self.board[2] or self.board[3] == self.board[4] == self.board[5] or self.board[6] == self.board[7] == self.board[8] or self.board[0] == self.board[3] == self.board[6] or self.board[1] == self.board[4] == self.board[7] or self.board[2] == self.board[5] == self.board[8] or self.board[0] == self.board[4] == self.board[8] or self.board[2] == self.board[4] == self.board[6]\n",
    "    \n",
    "    def clear_board(self):\n",
    "        self.board = [0,1,2,3,4,5,6,7,8]\n",
    "        \n",
    "    def add_turn(self):\n",
    "        self.turn += 1"
   ]
  },
  {
   "cell_type": "code",
   "execution_count": 3,
   "id": "0ea46805",
   "metadata": {},
   "outputs": [],
   "source": [
    "game_board = Board()"
   ]
  },
  {
   "cell_type": "code",
   "execution_count": 4,
   "id": "7f771e1c",
   "metadata": {},
   "outputs": [
    {
     "data": {
      "text/plain": [
       "[0, 1, 2, 3, 4, 5, 6, 7, 8]"
      ]
     },
     "execution_count": 4,
     "metadata": {},
     "output_type": "execute_result"
    }
   ],
   "source": [
    "game_board.board"
   ]
  },
  {
   "cell_type": "code",
   "execution_count": 5,
   "id": "424eca08",
   "metadata": {},
   "outputs": [
    {
     "name": "stdout",
     "output_type": "stream",
     "text": [
      "0 | 1 | 2\n",
      "3 | 4 | 5\n",
      "6 | 7 | 8\n"
     ]
    }
   ],
   "source": [
    "game_board.print_board()"
   ]
  },
  {
   "cell_type": "code",
   "execution_count": 6,
   "id": "fe100fb2",
   "metadata": {},
   "outputs": [],
   "source": [
    "game_board.place_counter(3,'X')\n",
    "game_board.place_counter(0,'X')\n",
    "game_board.place_counter(6,'X')"
   ]
  },
  {
   "cell_type": "code",
   "execution_count": 7,
   "id": "75b2bb1d",
   "metadata": {},
   "outputs": [
    {
     "name": "stdout",
     "output_type": "stream",
     "text": [
      "X | 1 | 2\n",
      "X | 4 | 5\n",
      "X | 7 | 8\n"
     ]
    },
    {
     "data": {
      "text/plain": [
       "True"
      ]
     },
     "execution_count": 7,
     "metadata": {},
     "output_type": "execute_result"
    }
   ],
   "source": [
    "game_board.print_board()\n",
    "game_board.win_check()"
   ]
  },
  {
   "cell_type": "code",
   "execution_count": 8,
   "id": "16e594ac",
   "metadata": {},
   "outputs": [
    {
     "data": {
      "text/plain": [
       "False"
      ]
     },
     "execution_count": 8,
     "metadata": {},
     "output_type": "execute_result"
    }
   ],
   "source": [
    "game_board.place_counter(6,'O')\n",
    "game_board.win_check()"
   ]
  },
  {
   "cell_type": "code",
   "execution_count": 9,
   "id": "21daebfd",
   "metadata": {},
   "outputs": [],
   "source": [
    "class Player:\n",
    "    \n",
    "    def __init__(self,name,number):\n",
    "        self.name = name\n",
    "        self.wins = 0\n",
    "        if number == 1:\n",
    "            self.counter = 'X'\n",
    "        else:\n",
    "            self.counter = 'O'\n",
    "            \n",
    "    def ask_name(self):\n",
    "        self.name = input('{} What is your name? '.format(self.name))\n",
    "        \n",
    "    def num_of_wins(self):\n",
    "        self.wins += 1\n",
    "        return \"{} you have won {} times\".format(self.name,self.wins)\n",
    "    \n",
    "    def player_move(self,board):\n",
    "        position = 'dummy'\n",
    "        \n",
    "        while position not in board:\n",
    "            try:\n",
    "                position = int(input('{} where would you like to move? '.format(self.name)))\n",
    "            \n",
    "                if position not in board:\n",
    "                    print('Move invalid, {} try again'.format(self.name))\n",
    "            except:\n",
    "                print('Position must be an integer')\n",
    "                \n",
    "        return position\n",
    "        \n",
    "    def __str__(self):\n",
    "        return self.name + ' you have ' + self.counter"
   ]
  },
  {
   "cell_type": "code",
   "execution_count": 10,
   "id": "dfeb07e7",
   "metadata": {},
   "outputs": [],
   "source": [
    "def play_again():\n",
    "    \n",
    "    play = 'No'\n",
    "    while play not in ['Y','N']:\n",
    "        play = input('Would you like to play again? Y or N')\n",
    "        \n",
    "        if play not in ['Y','N']:\n",
    "            print('Answer invalid!')\n",
    "            \n",
    "    if play == 'Y':\n",
    "        return True\n",
    "    else:\n",
    "        return False"
   ]
  },
  {
   "cell_type": "code",
   "execution_count": 11,
   "id": "3e942c0d",
   "metadata": {},
   "outputs": [],
   "source": [
    "game_on = True\n",
    "\n",
    "player1 = Player('player 1',2)\n",
    "player2 = Player('player 2',1)\n",
    "\n",
    "print('Lets play noughts and crosses!')\n",
    "\n",
    "player1.ask_name()\n",
    "print(player1)\n",
    "player2.ask_name()\n",
    "print(player2)\n",
    "\n",
    "print('{} you will start first!'.format(player1.name))\n",
    "game_player = player1\n",
    "\n",
    "game_board = Board()\n",
    "\n",
    "while game_on:\n",
    "    print(' ')\n",
    "    game_board.print_board()\n",
    "    \n",
    "    position = game_player.player_move(game_board.board)\n",
    "    game_board.place_counter(position,game_player.counter)\n",
    "    \n",
    "    if game_board.win_check():\n",
    "        print('Congratulations {} you have won the game! '.format(game_player.name))\n",
    "        game_player.num_of_wins()\n",
    "        game_board.clear_board()\n",
    "        game_on = play_again()\n",
    "        \n",
    "    clear_output()\n",
    "    \n",
    "    game_board.add_turn()\n",
    "    if game_board.turn % 2 == 0:\n",
    "        player1 = game_player\n",
    "        game_player = player2\n",
    "    else:\n",
    "        player2 = game_player\n",
    "        game_player = player1"
   ]
  },
  {
   "cell_type": "code",
   "execution_count": null,
   "id": "eb0d64a8",
   "metadata": {},
   "outputs": [],
   "source": []
  }
 ],
 "metadata": {
  "kernelspec": {
   "display_name": "Python 3 (ipykernel)",
   "language": "python",
   "name": "python3"
  },
  "language_info": {
   "codemirror_mode": {
    "name": "ipython",
    "version": 3
   },
   "file_extension": ".py",
   "mimetype": "text/x-python",
   "name": "python",
   "nbconvert_exporter": "python",
   "pygments_lexer": "ipython3",
   "version": "3.9.7"
  }
 },
 "nbformat": 4,
 "nbformat_minor": 5
}
