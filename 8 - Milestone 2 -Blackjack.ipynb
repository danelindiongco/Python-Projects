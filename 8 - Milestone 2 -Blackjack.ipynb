{
 "cells": [
  {
   "cell_type": "code",
   "execution_count": 1,
   "id": "bf1e254d",
   "metadata": {},
   "outputs": [],
   "source": [
    "suits = ('Hearts','Diamonds','Clubs','Spades')\n",
    "ranks = ('Two','Three','Four','Five','Six','Seven','Eight','Nine','Ten','Jack','Queen','King','Ace')\n",
    "values = {'Two':2,'Three':3,'Four':4,'Five':5,'Six':6,'Seven':7,'Eight':8,'Nine':9,'Ten':10,'Jack':10,'Queen':10,'King':10,'Ace':11}"
   ]
  },
  {
   "cell_type": "code",
   "execution_count": 2,
   "id": "d93316f7",
   "metadata": {},
   "outputs": [],
   "source": [
    "class Card:\n",
    "    \n",
    "    def __init__(self,suit,rank):\n",
    "        self.suit = suit\n",
    "        self.rank = rank\n",
    "        self.value = values[rank]\n",
    "        \n",
    "    def __str__(self):\n",
    "        return self.rank + ' of ' + self.suit"
   ]
  },
  {
   "cell_type": "code",
   "execution_count": 3,
   "id": "1d931a79",
   "metadata": {},
   "outputs": [],
   "source": [
    "Two_hearts = Card(suits[0],ranks[0])"
   ]
  },
  {
   "cell_type": "code",
   "execution_count": 4,
   "id": "cf71d8af",
   "metadata": {},
   "outputs": [
    {
     "name": "stdout",
     "output_type": "stream",
     "text": [
      "Two of Hearts\n"
     ]
    }
   ],
   "source": [
    "print(Two_hearts)"
   ]
  },
  {
   "cell_type": "code",
   "execution_count": 5,
   "id": "f245846a",
   "metadata": {},
   "outputs": [
    {
     "data": {
      "text/plain": [
       "2"
      ]
     },
     "execution_count": 5,
     "metadata": {},
     "output_type": "execute_result"
    }
   ],
   "source": [
    "Two_hearts.value"
   ]
  },
  {
   "cell_type": "code",
   "execution_count": 6,
   "id": "b6a533ad",
   "metadata": {},
   "outputs": [],
   "source": [
    "import random"
   ]
  },
  {
   "cell_type": "code",
   "execution_count": 7,
   "id": "f9de7f2b",
   "metadata": {},
   "outputs": [],
   "source": [
    "class Deck:\n",
    "    \n",
    "    all_cards = []\n",
    "    def __init__(self):\n",
    "        for i in suits:\n",
    "            for j in ranks:\n",
    "                self.all_cards.append(Card(i,j))\n",
    "                \n",
    "    def deal_one(self):\n",
    "        return self.all_cards.pop()\n",
    "    \n",
    "    def shuffle_deck(self):\n",
    "        random.shuffle(self.all_cards)"
   ]
  },
  {
   "cell_type": "code",
   "execution_count": 8,
   "id": "7279e10b",
   "metadata": {},
   "outputs": [],
   "source": [
    "sample_deck = Deck()"
   ]
  },
  {
   "cell_type": "code",
   "execution_count": 9,
   "id": "0c3307c4",
   "metadata": {},
   "outputs": [
    {
     "data": {
      "text/plain": [
       "52"
      ]
     },
     "execution_count": 9,
     "metadata": {},
     "output_type": "execute_result"
    }
   ],
   "source": [
    "len(sample_deck.all_cards)"
   ]
  },
  {
   "cell_type": "code",
   "execution_count": 10,
   "id": "e7f3c328",
   "metadata": {},
   "outputs": [],
   "source": [
    "random_card = sample_deck.deal_one()"
   ]
  },
  {
   "cell_type": "code",
   "execution_count": 11,
   "id": "ba1cbfef",
   "metadata": {},
   "outputs": [
    {
     "name": "stdout",
     "output_type": "stream",
     "text": [
      "11\n"
     ]
    }
   ],
   "source": [
    "print(random_card.value)"
   ]
  },
  {
   "cell_type": "code",
   "execution_count": 12,
   "id": "5aa49ac6",
   "metadata": {},
   "outputs": [
    {
     "name": "stdout",
     "output_type": "stream",
     "text": [
      "I have Ace of Spades\n"
     ]
    }
   ],
   "source": [
    "print('I have {}'.format(random_card))"
   ]
  },
  {
   "cell_type": "code",
   "execution_count": 13,
   "id": "9e209a8d",
   "metadata": {},
   "outputs": [],
   "source": [
    "class Player:\n",
    "    \n",
    "    def __init__(self,name):\n",
    "        self.name = name\n",
    "        self.account = 1000\n",
    "        \n",
    "    def __str__(self):\n",
    "        return self.name + ' you have ' + '£{}'.format(self.account) + ' to play with'\n",
    "    \n",
    "    def bet(self,bet_amount):\n",
    "        if bet_amount > self.account:\n",
    "            return 'Unable to bet. Insufficient funds'\n",
    "        else:\n",
    "            self.account -= bet_amount\n",
    "            return bet_amount\n",
    "        \n",
    "    def add_money(self,amount):\n",
    "        self.account += amount"
   ]
  },
  {
   "cell_type": "code",
   "execution_count": 14,
   "id": "ce9e4f2a",
   "metadata": {},
   "outputs": [],
   "source": [
    "Danel = Player('Danel')"
   ]
  },
  {
   "cell_type": "code",
   "execution_count": 15,
   "id": "aebec5b3",
   "metadata": {},
   "outputs": [
    {
     "data": {
      "text/plain": [
       "1000"
      ]
     },
     "execution_count": 15,
     "metadata": {},
     "output_type": "execute_result"
    }
   ],
   "source": [
    "Danel.account"
   ]
  },
  {
   "cell_type": "code",
   "execution_count": 16,
   "id": "07008383",
   "metadata": {},
   "outputs": [
    {
     "name": "stdout",
     "output_type": "stream",
     "text": [
      "Danel you have £1000 to play with\n"
     ]
    }
   ],
   "source": [
    "print(Danel)"
   ]
  },
  {
   "cell_type": "code",
   "execution_count": 39,
   "id": "c7ad1f83",
   "metadata": {},
   "outputs": [],
   "source": [
    "def hit_choice():\n",
    "    not_satisfied = 'No'\n",
    "    while not_satisfied not in ['Y','N']:\n",
    "        not_satisfied = input('Would you like to hit? Y/N ')\n",
    "        \n",
    "        if not_satisfied not in ['Y','N']:\n",
    "            print('Response invalid! Please try again!')\n",
    "            \n",
    "    return not_satisfied\n",
    "    "
   ]
  },
  {
   "cell_type": "code",
   "execution_count": 40,
   "id": "aa21770d",
   "metadata": {},
   "outputs": [],
   "source": [
    "def continue_playing():\n",
    "    play = 'No'\n",
    "    while play not in ['Y','N']:\n",
    "        play = input('Would you like to keep playing? Y/N ')\n",
    "        \n",
    "        if play not in ['Y','N']:\n",
    "            print('Response invalid! Please try again!')\n",
    "            continue\n",
    "            \n",
    "    if play == 'Y':\n",
    "        return True\n",
    "    else:\n",
    "        return False"
   ]
  },
  {
   "cell_type": "code",
   "execution_count": 18,
   "id": "c5eefc19",
   "metadata": {},
   "outputs": [
    {
     "data": {
      "text/plain": [
       "'Unable to bet. Insufficient funds'"
      ]
     },
     "execution_count": 18,
     "metadata": {},
     "output_type": "execute_result"
    }
   ],
   "source": [
    "Danel.bet(1200)"
   ]
  },
  {
   "cell_type": "code",
   "execution_count": 19,
   "id": "bd59213d",
   "metadata": {},
   "outputs": [],
   "source": [
    "random_hand = []"
   ]
  },
  {
   "cell_type": "code",
   "execution_count": 20,
   "id": "d6554815",
   "metadata": {},
   "outputs": [
    {
     "name": "stdout",
     "output_type": "stream",
     "text": [
      "Queen of Spades\n"
     ]
    }
   ],
   "source": [
    "random_hand.append(sample_deck.deal_one())\n",
    "random_hand.append(sample_deck.deal_one())\n",
    "print(random_hand[-1])"
   ]
  },
  {
   "cell_type": "code",
   "execution_count": 21,
   "id": "e72e494d",
   "metadata": {},
   "outputs": [],
   "source": [
    "def calculate_hand_value(hand):\n",
    "    hand_value = 0\n",
    "    for i in hand:\n",
    "        hand_value += i.value\n",
    "    \n",
    "    return hand_value"
   ]
  },
  {
   "cell_type": "code",
   "execution_count": 22,
   "id": "1f81a70a",
   "metadata": {},
   "outputs": [
    {
     "data": {
      "text/plain": [
       "20"
      ]
     },
     "execution_count": 22,
     "metadata": {},
     "output_type": "execute_result"
    }
   ],
   "source": [
    "calculate_hand_value(random_hand)"
   ]
  },
  {
   "cell_type": "code",
   "execution_count": 23,
   "id": "63d9039b",
   "metadata": {},
   "outputs": [
    {
     "data": {
      "text/plain": [
       "False"
      ]
     },
     "execution_count": 23,
     "metadata": {},
     "output_type": "execute_result"
    }
   ],
   "source": [
    "type(50) == str"
   ]
  },
  {
   "cell_type": "code",
   "execution_count": 41,
   "id": "d3b4bfeb",
   "metadata": {},
   "outputs": [],
   "source": [
    "game_on = True"
   ]
  },
  {
   "cell_type": "code",
   "execution_count": 42,
   "id": "6dd87453",
   "metadata": {},
   "outputs": [
    {
     "name": "stdout",
     "output_type": "stream",
     "text": [
      "Welcome to Blackjack\n",
      "What is your name? On-mun\n",
      "Hi On-mun you will start with £1000. Good luck!\n",
      " \n",
      "On-mun you have £1000 to play with\n",
      "how much would you like to bet? 50\n",
      "50\n",
      "On-mun you have King of Clubs and a Nine of Diamonds\n",
      "Would you like to hit? Y/N N\n",
      "Dealer is bust\n",
      "Dealer wins\n",
      " \n",
      "Dealer had:\n",
      "Seven of Clubs\n",
      "Nine of Clubs\n",
      "King of Spades\n",
      " \n",
      "Would you like to keep playing? Y/N Y\n",
      "On-mun you have £950 to play with\n",
      "how much would you like to bet? 950\n",
      "950\n",
      "On-mun you have Four of Diamonds and a Jack of Spades\n",
      "Would you like to hit? Y/N Y\n",
      "You have received Four of Hearts\n",
      "Would you like to hit? Y/N N\n",
      "Dealer wins\n",
      " \n",
      "Dealer had:\n",
      "Seven of Diamonds\n",
      "Ace of Clubs\n",
      " \n",
      "You have ran out of funds! You lose!\n",
      "On-mun you are now walking away with £0\n"
     ]
    }
   ],
   "source": [
    "print('Welcome to Blackjack')\n",
    "\n",
    "player_name = input('What is your name? ')\n",
    "player = Player(player_name)\n",
    "\n",
    "print('Hi {} you will start with £1000. Good luck!'.format(player_name))\n",
    "print(' ')\n",
    "\n",
    "while game_on:\n",
    "    game_deck = Deck()\n",
    "    game_deck.shuffle_deck()\n",
    "    print(player)\n",
    "    \n",
    "    #Ask bet amount from the player\n",
    "    bet = 'funk'\n",
    "    while type(bet) == str:\n",
    "        bet = int(input('how much would you like to bet? '))\n",
    "        bet = player.bet(bet)\n",
    "        print(bet)\n",
    "    \n",
    "    #Create empty player's and dealer's hands\n",
    "    player_hand = []\n",
    "    dealer_hand = []\n",
    "    #Create function in the player class for their hand after\n",
    "    \n",
    "    #Form player hand\n",
    "    player_hand.append(game_deck.deal_one())\n",
    "    player_hand.append(game_deck.deal_one())\n",
    "    print('{} you have {} and a {}'.format(player_name,player_hand[0],player_hand[1]))\n",
    "    \n",
    "    #Would player like to hit?\n",
    "    hit = hit_choice()\n",
    "    while hit == 'Y':\n",
    "        player_hand.append(game_deck.deal_one())\n",
    "        print('You have received {}'.format(player_hand[-1]))\n",
    "        player_hand_value = calculate_hand_value(player_hand)\n",
    "        #Add in functionality to stop when player is bust\n",
    "        if player_hand_value > 21:\n",
    "            print('Youre bust')\n",
    "            player_hand_value = 0\n",
    "            hit = 'Bust'\n",
    "            break\n",
    "        else:\n",
    "            hit = hit_choice()\n",
    "    \n",
    "    #Form Dealer's Hand\n",
    "    dealer_hand.append(game_deck.deal_one())\n",
    "    dealer_hand.append(game_deck.deal_one())\n",
    "    dealer_hand_value = calculate_hand_value(dealer_hand)\n",
    "    if dealer_hand_value < 17:\n",
    "        dealer_hand.append(game_deck.deal_one())\n",
    "        dealer_hand_value = calculate_hand_value(dealer_hand)\n",
    "        if dealer_hand_value > 21:\n",
    "            print('Dealer is bust')\n",
    "            dealer_hand_value = 0\n",
    "        \n",
    "    \n",
    "    #Compare Player's and Dealer's hands to see who's won\n",
    "    if dealer_hand_value >= player_hand_value:\n",
    "        print('Dealer wins')\n",
    "        print(' ')\n",
    "        print('Dealer had:')\n",
    "        for i in dealer_hand:\n",
    "            print(i)\n",
    "        print(' ')\n",
    "        #Check to see if the player can still play\n",
    "        if player.account == 0:\n",
    "            print('You have ran out of funds! You lose!')\n",
    "            game_on = False\n",
    "            break\n",
    "        else:\n",
    "            game_on = continue_playing()\n",
    "        \n",
    "    elif dealer_hand_value < player_hand_value:\n",
    "        print('You win! {}'.format(player_name))\n",
    "        print(' ')\n",
    "        print('Dealer had:')\n",
    "        for i in dealer_hand:\n",
    "            print(i)\n",
    "        print(' ')\n",
    "        #Add money to the account\n",
    "        player.add_money(bet + (bet*(3/2)))\n",
    "        game_on = continue_playing()\n",
    "        \n",
    "        \n",
    "print('{} you are now walking away with £{}'.format(player_name,player.account))"
   ]
  },
  {
   "cell_type": "code",
   "execution_count": null,
   "id": "1e92f86a",
   "metadata": {},
   "outputs": [],
   "source": []
  }
 ],
 "metadata": {
  "kernelspec": {
   "display_name": "Python 3 (ipykernel)",
   "language": "python",
   "name": "python3"
  },
  "language_info": {
   "codemirror_mode": {
    "name": "ipython",
    "version": 3
   },
   "file_extension": ".py",
   "mimetype": "text/x-python",
   "name": "python",
   "nbconvert_exporter": "python",
   "pygments_lexer": "ipython3",
   "version": "3.9.7"
  }
 },
 "nbformat": 4,
 "nbformat_minor": 5
}
